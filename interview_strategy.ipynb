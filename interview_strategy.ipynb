{
 "cells": [
  {
   "cell_type": "markdown",
   "metadata": {},
   "source": [
    "## Задача\n",
    "Перед нами завдання обрати найкращого секретаря серед n аплікантів, які приходять по черзі. Після співбесіди з кандидатом ми маємо зробити вибір: найняти його чи продовжити пошуки. У випадку найму кандидат погодиться з ймовірністю 100%, якщо ж ми його не наймаємо — він назавжди втрачений.\n",
    "\n",
    "Нас цікавить лише швидкість друку кандидатів, тому на співбесіді ми проводимо з ними тест. Ба більше, ми знаємо розподіл швидкості друку у популяції, себто знаючи скільки слів на хвилину друкує кандидат ми одразу встановлюємо в якому персентилі відносно популяції він перебуває.\n",
    "\n",
    "В котрому персентилі має знаходитись k-ий кандидат аби ми його найняли замість сподіватись на кращого кандидата пізніше?"
   ]
  },
  {
   "cell_type": "markdown",
   "metadata": {},
   "source": [
    "### Припущення\n",
    "- Стратегія не враховує інформацію про попередніх, вже відсіяних кандидатів. Тобто стратегія -- це відображення \n",
    "$$(F, k) \\rightarrow d$$\n",
    "де $F$ -- функція розподілу швидкості друку в популяції, $k$ -- кількість кандидатів, що ще залишились окрім поточного, $d$ -- поріг прийняття поточного кандидату. Тобто поточний кандидат зі швидкістю друку $x$ приймається якщо $F(x) \\geq d$.\n",
    "- Треба знайти стратегію, яка максимізує ймовірність вибору найкращого кандидату з тих, що залишились, за умови, що на наступних кроках буде застосовуватись оптимальна в такому ж сенсі стратегія \n",
    "- Щоб не розглядати окремо випадки рівностей, будемо вважати, що $F$ задає неперервний розподіл"
   ]
  },
  {
   "cell_type": "markdown",
   "metadata": {},
   "source": [
    "## Розв'язок"
   ]
  },
  {
   "cell_type": "markdown",
   "metadata": {},
   "source": [
    "Оскільки в нас рекурсивне означення оптимальної стратегії, визначемо її спочатку на крайових випадках. Нехай $F$ фіксоване, \n",
    "- $d_k = Strategy(F, k)$, \n",
    "- $p_k$ -- ймовірність обрати найкращого кандидата з тих, що залишились, використовуючи оптимальну стратегію на $k$ кроці."
   ]
  },
  {
   "cell_type": "markdown",
   "metadata": {},
   "source": [
    "Зрозуміло, що при $k=0$, тобто коли залишився єдиний кандидат, $d_0 = 0$, $p_0 = 1$."
   ]
  },
  {
   "cell_type": "markdown",
   "metadata": {},
   "source": [
    "Розглянемо далі випадок $k=1$, тобто коли залишився один кандидат, окрім поточного. Нехай $\\alpha$ -- швидкість друку поточного кандидату (її ми спостерігаємо), $x_1$ -- швидкість кандидату, що залишився. В нас є вибір -- обрати поточного кандидата, або перейти до наступного (якого ми оберемо тоді автоматично). Ймовірність обрати найкращого з наявних в цих випадках буде:\n",
    "- $P\\left(\\text{choose the best one} | \\text{choose } \\alpha \\right) = P(\\alpha > x_1) = F(\\alpha)$\n",
    "- $P\\left(\\text{choose the best one} | \\text{skip } \\alpha \\right) = P(\\alpha < x_1) = 1 - F(\\alpha)$"
   ]
  },
  {
   "cell_type": "markdown",
   "metadata": {},
   "source": [
    "$F(\\alpha) \\geq 1 - F(\\alpha) \\Leftrightarrow F(\\alpha) \\geq \\frac12$\n",
    "\n",
    "Отже, для максимізації ймовірності обрати найкращого кандидата, в цьому випадку треба обирати поточного, якщо $F(\\alpha) \\geq \\frac12$ і переходити до наступного в протилежному випадку. Таким чином $d_1 = \\frac12$."
   ]
  },
  {
   "cell_type": "markdown",
   "metadata": {},
   "source": [
    "Порахуємо, яка ймовірність обрати найкращого кандидата при цій стратегії. Для цього нехай швидкість поточного кандидата, $x$ -- це також випадкова величина з розподілу, що задається $F$. Тоді, беручи до уваги стратегію,\n",
    "\n",
    "$p_1 = P(\\text{choose the best one}) = P\\left(x > x_1 | x \\text{ was chosen}\\right) \\cdot P(x \\text{ was chosen}) + P\\left(x_1 > x | x \\text{ was skipped}\\right) \\cdot P(x \\text{ was skipped}) $\n",
    "\n",
    "$= P\\left(x > x_1 | F(x) \\geq \\frac12 \\right) \\cdot P(F(x) \\geq \\frac12) + P\\left(x_1 > x | F(x) < \\frac12 \\right) \\cdot P(F(x) < \\frac12 )$\n",
    "\n",
    "тут помітимо, що якщо $F_{\\xi}$ -- функція розподілу випадкової величини $\\xi$, то $F_{\\xi} (\\xi)$ -- випадкова величина, і $F_{\\xi}(\\xi) \\sim U(0, 1)$\n",
    "\n",
    "$= (1\\cdot \\frac12 + \\frac12\\cdot\\frac12)\\cdot \\frac12 + (1\\cdot \\frac12 + \\frac12\\cdot\\frac12)\\cdot \\frac12 = \\frac34$"
   ]
  },
  {
   "cell_type": "markdown",
   "metadata": {},
   "source": [
    "Перевіримо ймовірність\n",
    " "
   ]
  },
  {
   "cell_type": "code",
   "execution_count": 1,
   "metadata": {},
   "outputs": [],
   "source": [
    "import scipy\n",
    "import numpy as np"
   ]
  },
  {
   "cell_type": "code",
   "execution_count": 147,
   "metadata": {},
   "outputs": [],
   "source": [
    "distr = scipy.stats.skewnorm(a=2, loc=20, scale=3)"
   ]
  },
  {
   "cell_type": "code",
   "execution_count": 3,
   "metadata": {},
   "outputs": [],
   "source": [
    "d1 = 1 / 2\n",
    "n = 1000000\n",
    "A = distr.rvs(size=(n, 2))\n",
    "chosen = A[:, 0] * ((A[:, 0]) >= distr.ppf(d1)) + A[:, 1] * (A[:, 0] < distr.ppf(d1))"
   ]
  },
  {
   "cell_type": "code",
   "execution_count": 4,
   "metadata": {},
   "outputs": [
    {
     "data": {
      "text/plain": [
       "0.749875"
      ]
     },
     "execution_count": 4,
     "metadata": {},
     "output_type": "execute_result"
    }
   ],
   "source": [
    "(chosen == A.max(axis=1)).mean()"
   ]
  },
  {
   "cell_type": "markdown",
   "metadata": {},
   "source": [
    "Переходимо тепер до загального випадку (крок індукції): окрім поточного кандидату залишилось $k$ інших, з випадковими швидкостями $x_1, x_2, \\ldots x_k$, поточний кандидат має швидкість $\\alpha$. Маємо "
   ]
  },
  {
   "cell_type": "markdown",
   "metadata": {},
   "source": [
    "- $P\\left(\\text{choose the best one} | \\text{choose } \\alpha \\right) = P(\\alpha > max(x_1, \\ldots, x_k)) = P(\\alpha > x_1, \\ldots, \\alpha > x_k) = \\prod\\limits_{i=1}^k P(x_i < \\alpha) = F(\\alpha)^k$\n",
    "- $P\\left(\\text{choose the best one} | \\text{skip } \\alpha \\right) = P(\\alpha < max(x_1, \\ldots, x_k)) \\cdot p_{k-1} = (1 - F(\\alpha)^k) \\cdot p_{k-1}$"
   ]
  },
  {
   "cell_type": "markdown",
   "metadata": {},
   "source": [
    "$F(\\alpha)^k \\geq (1-F(\\alpha)^k)\\cdot p_{k-1} \\Leftrightarrow F(\\alpha)^k \\cdot (p_{k-1} + 1) \\geq p_{k-1} \\Leftrightarrow F(k) \\geq \\left(\\frac{p_{k-1}}{1+p_{k-1}}\\right)^\\frac1k$.\n",
    "\n",
    " Отже, $d_k = \\left(\\frac{p_{k-1}}{1+p_{k-1}}\\right)^\\frac1k$"
   ]
  },
  {
   "cell_type": "markdown",
   "metadata": {},
   "source": [
    "Відповідна ймовірність виграшу:"
   ]
  },
  {
   "cell_type": "markdown",
   "metadata": {},
   "source": [
    "$p_k = P(\\text{choose the best one})$ \n",
    "\n",
    "$ = P\\left(x > max(x_1, \\ldots, x_k) | x \\text{ was chosen}\\right) \\cdot P(x \\text{ was chosen}) + p_{k-1}\\cdot P\\left(x < max(x_1,\\ldots, x_k) |x \\text{ was skipped}\\right) \\cdot P(x \\text{ was skipped}) $\n",
    "\n",
    "$ = P\\left(x > max(x_1, \\ldots, x_k) | F(x) \\geq d_k \\right) \\cdot P(F(x)\\geq d_k) + p_{k-1}\\cdot P\\left(x < max(x_1,\\ldots, x_k) |F(x) < d_k\\right) \\cdot P(F(x) < d_k) $\n",
    "\n",
    "$ = P\\left(x > x_1 | F(x) \\geq d_k \\right)^k \\cdot (1-d_k) + p_{k-1}\\cdot \\left(1-P\\left(x > x_1 |F(x) < d_k\\right)^k\\right) \\cdot d_k $\n"
   ]
  },
  {
   "cell_type": "markdown",
   "metadata": {},
   "source": [
    "Порахуємо окремо \n",
    "\n",
    "$P\\left(x > x_1 | F(x) \\geq d_k \\right) $\n",
    "\n",
    "$= P\\left(x > x_1 | F(x) \\geq d_k, F(x_1) \\geq d_k \\right)\\cdot P(F(x_1)\\geq d_k) + P\\left(x > x_1 | F(x) \\geq d_k, F(x_1) < d_k \\right)\\cdot P(F(x_1)< d_k) $\n",
    "\n",
    "$= \\frac12(1-d_k) + d_k = \\frac12 (1 + d_k)$"
   ]
  },
  {
   "cell_type": "markdown",
   "metadata": {},
   "source": [
    "$P\\left(x > x_1 | F(x) < d_k \\right) $\n",
    "\n",
    "$= P\\left(x > x_1 | F(x) < d_k, F(x_1) < d_k \\right)\\cdot P(F(x_1)<d_k) + P\\left(x > x_1 | F(x) <d_k, F(x_1) \\geq d_k \\right)\\cdot P(F(x_1)\\geq d_k) $\n",
    "\n",
    "$= \\frac12 d_k$"
   ]
  },
  {
   "cell_type": "markdown",
   "metadata": {},
   "source": [
    "Підставляючи, маємо \n",
    "\n",
    "$p_k = \\left(\\frac{d_k + 1}{2}\\right)^k \\cdot (1-d_k) + p_{k-1}\\cdot \\left(1-\\left(\\frac{1}{2} d_k\\right)^k\\right) \\cdot d_k $\n"
   ]
  },
  {
   "cell_type": "markdown",
   "metadata": {},
   "source": [
    "Отже, оптимальний поріг для вибору поточного кандидату задається рекурентно співвідношеннями\n",
    "\n",
    "$d_0 = 0, p_0 = 1$\n",
    "\n",
    "$d_k = \\left(\\frac{p_{k-1}}{1+p_{k-1}}\\right)^{1/k}, k>0$\n",
    "\n",
    "$p_k = \\frac{1}{2^k}\\left(1+\\left(\\frac{p_{k-1}}{1+p_{k-1}}\\right)^{1/k}\\right)^k \\cdot \\left(1-\\left(\\frac{p_{k-1}}{1+p_{k-1}}\\right)^{1/k}\\right) + p_{k-1}\\cdot \\left(\\frac{p_{k-1}}{1+p_{k-1}}\\right)^{1/k}\\cdot\\left(1-\\frac{1}{2^k} \\frac{p_{k-1}}{1+p_{k-1}}\\right) , k>0$"
   ]
  },
  {
   "cell_type": "code",
   "execution_count": 5,
   "metadata": {},
   "outputs": [],
   "source": [
    "import matplotlib.pyplot as plt\n",
    "import numpy as np"
   ]
  },
  {
   "cell_type": "code",
   "execution_count": 173,
   "metadata": {},
   "outputs": [],
   "source": [
    "dk = [0]\n",
    "pk = [1]\n",
    "N = 25\n",
    "ks = np.arange(N)\n",
    "\n",
    "for k in ks[1:]:\n",
    "    dk.append((pk[-1] / (1 + pk[-1]))**(1/ k))\n",
    "    pk.append(\n",
    "        ((dk[-1] + 1) / 2) ** k * (1 - dk[-1]) + dk[-1] * pk[-1] * (1 - (dk[-1] / 2) ** k)\n",
    "    )\n",
    "\n",
    "dk = np.array(dk)\n",
    "pk = np.array(pk)"
   ]
  },
  {
   "cell_type": "code",
   "execution_count": 174,
   "metadata": {},
   "outputs": [
    {
     "data": {
      "image/png": "[encoded data removed]",
      "text/plain": [
       "<Figure size 1500x400 with 2 Axes>"
      ]
     },
     "metadata": {},
     "output_type": "display_data"
    }
   ],
   "source": [
    "fig, axs = plt.subplots(1, 2, figsize=(15, 4))\n",
    "\n",
    "ax = axs[0]\n",
    "ax.plot(ks, dk)\n",
    "ax.set_xlabel(r\"$k$, number of candidates left except the current one\")\n",
    "ax.set_ylabel(r\"$d_k$\")\n",
    "ax.set_title(\"Optimal decision threshold\")\n",
    "\n",
    "ax = axs[1]\n",
    "ax.plot(ks, pk)\n",
    "ax.set_xlabel(r\"$k$, number of candidates left except the current one\")\n",
    "ax.set_ylabel(r\"$p_k$\")\n",
    "ax.set_title(\"Probability of choosing the best one\")\n",
    "\n",
    "plt.show()"
   ]
  },
  {
   "cell_type": "code",
   "execution_count": 188,
   "metadata": {},
   "outputs": [],
   "source": [
    "n = 1000000\n",
    "N = 5\n",
    "A = distr.rvs(size=(n, N))"
   ]
  },
  {
   "cell_type": "code",
   "execution_count": 190,
   "metadata": {},
   "outputs": [],
   "source": [
    "thresholds = distr.ppf(dk)[::-1]"
   ]
  },
  {
   "cell_type": "code",
   "execution_count": 191,
   "metadata": {},
   "outputs": [],
   "source": [
    "passed = A >= thresholds[-N:]"
   ]
  },
  {
   "cell_type": "code",
   "execution_count": 192,
   "metadata": {},
   "outputs": [],
   "source": [
    "chosen = A[passed.cumsum(axis=1).cumsum(axis=1) == 1]"
   ]
  },
  {
   "cell_type": "code",
   "execution_count": 208,
   "metadata": {},
   "outputs": [
    {
     "data": {
      "text/plain": [
       "(0.619393, 0.623725602872354)"
      ]
     },
     "execution_count": 208,
     "metadata": {},
     "output_type": "execute_result"
    }
   ],
   "source": [
    "# P(chosen is the best one)\n",
    "(chosen == A.max(axis=1)).mean(), pk[-N]"
   ]
  },
  {
   "cell_type": "code",
   "execution_count": 196,
   "metadata": {},
   "outputs": [],
   "source": [
    "passed1 = A[:, 0] >= thresholds[-N]"
   ]
  },
  {
   "cell_type": "code",
   "execution_count": 215,
   "metadata": {},
   "outputs": [
    {
     "data": {
      "text/plain": [
       "(0.6602880874776574, 0.6435243254554908)"
      ]
     },
     "execution_count": 215,
     "metadata": {},
     "output_type": "execute_result"
    }
   ],
   "source": [
    "# P(first is the best | first is chosen)\n",
    "(A[passed1, 0] == A[passed1, :].max(axis=1)).mean(), ((dk[N-1] + 1) / 2) ** (N-1) "
   ]
  },
  {
   "cell_type": "code",
   "execution_count": 214,
   "metadata": {},
   "outputs": [
    {
     "data": {
      "text/plain": [
       "(0.209242, 0.20868799000111027)"
      ]
     },
     "execution_count": 214,
     "metadata": {},
     "output_type": "execute_result"
    }
   ],
   "source": [
    "# P(first is chosen)\n",
    "passed1.mean(), (1 - dk[N-1])"
   ]
  },
  {
   "cell_type": "code",
   "execution_count": null,
   "metadata": {},
   "outputs": [],
   "source": []
  }
 ],
 "metadata": {
  "kernelspec": {
   "display_name": "shared",
   "language": "python",
   "name": "python3"
  },
  "language_info": {
   "codemirror_mode": {
    "name": "ipython",
    "version": 3
   },
   "file_extension": ".py",
   "mimetype": "text/x-python",
   "name": "python",
   "nbconvert_exporter": "python",
   "pygments_lexer": "ipython3",
   "version": "3.11.4"
  }
 },
 "nbformat": 4,
 "nbformat_minor": 2
}
